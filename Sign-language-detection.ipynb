{
 "cells": [
  {
   "cell_type": "markdown",
   "id": "842421f2",
   "metadata": {},
   "source": [
    "# Collect images"
   ]
  },
  {
   "cell_type": "code",
   "execution_count": 1,
   "id": "b10675ce",
   "metadata": {},
   "outputs": [],
   "source": [
    "# import os\n",
    "\n",
    "# import cv2\n",
    "\n",
    "\n",
    "# DATA_DIR = './data'\n",
    "# if not os.path.exists(DATA_DIR):\n",
    "#     os.makedirs(DATA_DIR)\n",
    "\n",
    "# number_of_classes = 3\n",
    "# dataset_size = 100\n",
    "\n",
    "# cap = cv2.VideoCapture(0)\n",
    "# for j in range(number_of_classes):\n",
    "#     if not os.path.exists(os.path.join(DATA_DIR, str(j))):\n",
    "#         os.makedirs(os.path.join(DATA_DIR, str(j)))\n",
    "\n",
    "#     print('Collecting data for class {}'.format(j))\n",
    "\n",
    "#     done = False\n",
    "#     while True:\n",
    "#         ret, frame = cap.read()\n",
    "#         cv2.putText(frame, 'Ready? Press \"Q\" ! :)', (100, 50), cv2.FONT_HERSHEY_SIMPLEX, 1.3, (0, 255, 0), 3,\n",
    "#                     cv2.LINE_AA)\n",
    "#         cv2.imshow('frame', frame)\n",
    "#         if cv2.waitKey(25) == ord('q'):\n",
    "#             break\n",
    "\n",
    "#     counter = 0\n",
    "#     while counter < dataset_size:\n",
    "#         ret, frame = cap.read()\n",
    "#         cv2.imshow('frame', frame)\n",
    "#         cv2.waitKey(25)\n",
    "#         cv2.imwrite(os.path.join(DATA_DIR, str(j), '{}.jpg'.format(counter)), frame)\n",
    "#         if cv2.waitKey(25) == ord('q'):\n",
    "#             break\n",
    "\n",
    "#         counter += 1\n",
    "    \n",
    "\n",
    "# cap.release()\n",
    "# cv2.destroyAllWindows()\n",
    "# cv2.waitKey(1)"
   ]
  },
  {
   "cell_type": "markdown",
   "id": "e5683239",
   "metadata": {},
   "source": [
    "# Create Dataset"
   ]
  },
  {
   "cell_type": "code",
   "execution_count": 2,
   "id": "a901942c",
   "metadata": {},
   "outputs": [],
   "source": [
    "import os\n",
    "import pickle\n",
    "import mediapipe as mp\n",
    "import cv2\n",
    "import matplotlib.pyplot as plt"
   ]
  },
  {
   "cell_type": "code",
   "execution_count": 3,
   "id": "be3649ee",
   "metadata": {},
   "outputs": [],
   "source": [
    "# # data_dir='./data'\n",
    "\n",
    "# # mp_hands=mp.solutions.hands\n",
    "# # mp_drawing=mp.solutions.drawing_utils\n",
    "# # mp_drawing_styles=mp.solutions.drawing_styles\n",
    "\n",
    "# # hands=mp_hands.Hands(static_image_mode=True,min_detection_confidence=0.3)\n",
    "\n",
    "# # data=[]\n",
    "# # label=[]\n",
    "\n",
    "# for dir_ in os.listdir(data_dir):\n",
    "#     if dir_=='.gitignore' or dir_=='.DS_Store':\n",
    "#         continue\n",
    "#     for img_path in os.listdir(os.path.join(data_dir,dir_)):\n",
    "#         data_img=[]\n",
    "#         img=cv2.imread(os.path.join(data_dir,dir_,img_path))\n",
    "#         img_rgb=cv2.cvtColor(img,cv2.COLOR_BGR2RGB)\n",
    "        \n",
    "#         results=hands.process(img_rgb)\n",
    "        \n",
    "# #         if results.multi_hand_landmarks:\n",
    "# #             for hand_landmarks in results.multi_hand_landmarks:\n",
    "# #                 mp_drawing.draw_landmarks(\n",
    "# #                     img_rgb, #image to draw\n",
    "# #                     hand_landmarks, #model output\n",
    "# #                     mp_hands.HAND_CONNECTIONS,\n",
    "# #                     mp_drawing_styles.get_default_hand_landmarks_style(),\n",
    "# #                     mp_drawing_styles.get_default_hand_connections_style())\n",
    "#         if results.multi_hand_landmarks:\n",
    "#             for hand_landmarks in results.multi_hand_landmarks:\n",
    "#                 for i in range(len(hand_landmarks.landmark)):\n",
    "#                     x=hand_landmarks.landmark[i].x\n",
    "#                     y=hand_landmarks.landmark[i].y\n",
    "#                     data_img.append(x)\n",
    "#                     data_img.append(y)\n",
    "#             data.append(data_img)\n",
    "#             label.append(dir_)\n",
    "# #                     print(i)\n",
    "# #                     print(hand_landmarks.landmark[i])\n",
    "                \n",
    "# # #         plt.figure()\n",
    "# # #         plt.imshow(img_rgb)\n",
    "# # # plt.show()"
   ]
  },
  {
   "cell_type": "code",
   "execution_count": 9,
   "id": "410984ea",
   "metadata": {},
   "outputs": [
    {
     "name": "stderr",
     "output_type": "stream",
     "text": [
      "I0000 00:00:1706138413.961625       1 gl_context.cc:344] GL version: 2.1 (2.1 Metal - 86), renderer: Apple M2 Pro\n"
     ]
    }
   ],
   "source": [
    "data_dir='./data'\n",
    "\n",
    "mp_hands=mp.solutions.hands\n",
    "mp_drawing=mp.solutions.drawing_utils\n",
    "mp_drawing_styles=mp.solutions.drawing_styles\n",
    "\n",
    "hands=mp_hands.Hands(static_image_mode=True,min_detection_confidence=0.3)\n",
    "\n",
    "data=[]\n",
    "label=[]\n",
    "\n",
    "for dir_ in os.listdir(data_dir):\n",
    "    if dir_=='.gitignore' or dir_=='.DS_Store':\n",
    "        continue\n",
    "    for img_path in os.listdir(os.path.join(data_dir,dir_)):\n",
    "        data_img=[]\n",
    "        img=cv2.imread(os.path.join(data_dir,dir_,img_path))\n",
    "        img_rgb=cv2.cvtColor(img,cv2.COLOR_BGR2RGB)\n",
    "        \n",
    "        results=hands.process(img_rgb)\n",
    "        \n",
    "        if results.multi_hand_landmarks:\n",
    "            for hand_landmarks in results.multi_hand_landmarks:\n",
    "                for i in range(len(hand_landmarks.landmark)):\n",
    "                    x=hand_landmarks.landmark[i].x\n",
    "                    y=hand_landmarks.landmark[i].y\n",
    "                    data_img.append(x)\n",
    "                    data_img.append(y)\n",
    "            data.append(data_img)\n",
    "            label.append(dir_)\n",
    "\n",
    "\n",
    "                "
   ]
  },
  {
   "cell_type": "code",
   "execution_count": 6,
   "id": "b2747c02",
   "metadata": {},
   "outputs": [],
   "source": [
    "f=open('data.pickle','wb')\n",
    "pickle.dump({'data':data,'label':label},f)\n",
    "f.close()"
   ]
  },
  {
   "cell_type": "markdown",
   "id": "a9a1bcf6",
   "metadata": {},
   "source": [
    "# Train Classifier"
   ]
  },
  {
   "cell_type": "code",
   "execution_count": 16,
   "id": "fcdcdd12",
   "metadata": {},
   "outputs": [],
   "source": [
    "from sklearn.ensemble import RandomForestClassifier\n",
    "from sklearn.model_selection import train_test_split\n",
    "from sklearn.metrics import accuracy_score\n",
    "\n",
    "import numpy as np"
   ]
  },
  {
   "cell_type": "code",
   "execution_count": 20,
   "id": "d2ce4b21",
   "metadata": {},
   "outputs": [
    {
     "name": "stdout",
     "output_type": "stream",
     "text": [
      "Accuracy of prediction is 100.0%\n"
     ]
    }
   ],
   "source": [
    "data_dict=pickle.load(open('data.pickle','rb'))\n",
    "\n",
    "data=np.asarray(data_dict['data'])\n",
    "label=np.asarray(data_dict['label'])\n",
    "\n",
    "x_train,x_test,y_train,y_test=train_test_split(data,label,test_size=0.2,shuffle=True,stratify=label)\n",
    "\n",
    "\"\"\"\n",
    "stratify is used to make sure that equal proportion of data is present in both train and test sets, i.e., if 1/3rd \n",
    "of data in train set is from folder 0 then 1/3rd of data in test set is also from folder 0.\n",
    "\"\"\" \n",
    "\n",
    "model=RandomForestClassifier()\n",
    "model.fit(x_train, y_train)\n",
    "\n",
    "y_predict=model.predict(x_test)\n",
    "\n",
    "score=accuracy_score(y_predict,y_test)\n",
    "\n",
    "print(\"Accuracy of prediction is {}%\".format(score*100))\n"
   ]
  },
  {
   "cell_type": "code",
   "execution_count": 21,
   "id": "0a5f2b7b",
   "metadata": {},
   "outputs": [],
   "source": [
    "f=open('model.p','wb')\n",
    "pickle.dump({'model':model},f)\n",
    "f.close()"
   ]
  },
  {
   "cell_type": "markdown",
   "id": "030c1886",
   "metadata": {},
   "source": []
  }
 ],
 "metadata": {
  "kernelspec": {
   "display_name": "Python 3 (ipykernel)",
   "language": "python",
   "name": "python3"
  },
  "language_info": {
   "codemirror_mode": {
    "name": "ipython",
    "version": 3
   },
   "file_extension": ".py",
   "mimetype": "text/x-python",
   "name": "python",
   "nbconvert_exporter": "python",
   "pygments_lexer": "ipython3",
   "version": "3.11.5"
  }
 },
 "nbformat": 4,
 "nbformat_minor": 5
}
